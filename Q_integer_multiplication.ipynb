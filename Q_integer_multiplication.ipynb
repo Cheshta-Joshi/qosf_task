{
 "cells": [
  {
   "cell_type": "markdown",
   "metadata": {},
   "source": [
    "## Quantum Multiplier   \n",
    "The aim of this exercise is to design a quantum multiplier, which takes two integers _(neccessarily of the same bit length)_ as input and gives back their product as an integer. We will be designing a qauntum equivalent of the **shift and add multiplication algorithm** with optimal number of T-gates.  \n",
    "  \n",
    "  \n",
    "Quantum circuits for integer arithmetic operations such as addition, subtraction and multiplication are important as they are required in the quantum circuit implementations of many quantum algorithms in these areas. Traditionally, many algorithms have been proposed for a quantum multiplier based on **Quantum Fourier Transform**, with many improvements in terms of quantum gates, number of qubits and delay. However most of them fail to reduce garbage outputs and **T-count** of the qubits.  \n",
    "\n",
    "Fault tolerant gates, such as the set of Clifford + T gates are being used for making computers error prone. But, the increased tolerance to noise errors comes with increased implementation overhead associated with them. The T gates are commomnly used for designing algorithms and the T-count is calculated to have a measure of their performance. \n",
    "\n",
    "$$T = \\begin{bmatrix} 1 & 0 \\\\ 0 & e^{i\\pi/2} \\end{bmatrix}$$  \n",
    "\n",
    "Methods based on QFT have achieved garbageless circuit designs but have significant Clifford + T-gate costs.  \n",
    "\n",
    "![T-Gate Cost](img1.png)\n",
    "\n",
    "Here, we discuss the method proposed by **Edgard and Himanshu**, which only utilises the CNOT and Toffoli gates (T-count = 15). In this method, we use **Benett's Garbage Removal Scheme** to to remove the garbage outputs and either restore them to their original values or to the zero state. It involves applying the inverse of the multiplier operator and CNOT to restore the values of input numbers and to find their product. The scheme is depicted in the below given picture. \n",
    "\n",
    "![Bennets](img2.png)\n",
    "  \n",
    "\n",
    "The Quantum Shift and Add multiplication is constituted of Quantum Conditional Addition which will be discussed later in this exercise. \n"
   ]
  },
  {
   "cell_type": "code",
   "execution_count": 1,
   "metadata": {},
   "outputs": [],
   "source": [
    "import numpy as np\n",
    "from qiskit import *\n",
    "import time"
   ]
  },
  {
   "cell_type": "code",
   "execution_count": 2,
   "metadata": {},
   "outputs": [
    {
     "name": "stdout",
     "output_type": "stream",
     "text": [
      "Enter number 1 : 12\n",
      "Enter number 2 : 13\n"
     ]
    }
   ],
   "source": [
    "a = int((input(\"Enter number 1 : \")))\n",
    "b = int((input(\"Enter number 2 : \")))"
   ]
  },
  {
   "cell_type": "markdown",
   "metadata": {},
   "source": [
    "We first convert the input numbers into their corresponding binary value and then store the digits in their respective lists. "
   ]
  },
  {
   "cell_type": "code",
   "execution_count": 3,
   "metadata": {},
   "outputs": [
    {
     "name": "stdout",
     "output_type": "stream",
     "text": [
      "binary of a :  1100\n",
      "binary of b :  1101\n",
      "Index list for binary a, starting from 0th index :  [0, 0, 1, 1]\n",
      "Index list for binary b, starting from 0th index :  [1, 0, 1, 1]\n"
     ]
    }
   ],
   "source": [
    "start = time.time()\n",
    "\n",
    "bin_a = bin(a)[2:]\n",
    "bin_b = bin(b)[2:]\n",
    "\n",
    "print(\"binary of a : \", bin_a)\n",
    "print(\"binary of b : \", bin_b)\n",
    "\n",
    "a_index = [int(x) for x in [*bin_a]]\n",
    "b_index = [int(x) for x in [*bin_b]]\n",
    "\n",
    "\n",
    "\n",
    "a_index.reverse()\n",
    "b_index.reverse()\n",
    "\n",
    "\"\"\" Uncomment this part to see how if the numbers are not of the same bit length, the algorithm does not give a \n",
    "correct solution even if we add 0 bits to make them of the same size. \"\"\"\n",
    "\n",
    "# if len(a_index) > len(b_index) : \n",
    "#     b_index += [0] * (len(a_index) - len(b_index))\n",
    "# elif len(a_index) < len(b_index) : \n",
    "#     a_index += [0] * (len(b_index) - len(a_index))\n",
    "# else : \n",
    "#     pass\n",
    "\n",
    "print(\"Index list for binary a, starting from 0th index : \", a_index)\n",
    "print(\"Index list for binary b, starting from 0th index : \", b_index)"
   ]
  },
  {
   "cell_type": "markdown",
   "metadata": {},
   "source": [
    "## Quantum Conditional Addition  \n",
    "\n",
    "In this part we design the ctrl_add circuit with no input carry. This design has no garbage outputs and improves the T-count as compared to the other multiplier algorithms. The circuit takes $a_{i}$ , $b_{i}$ , a control bit and two extra bits as an input. At the end of the computation, it restores the binary of number a, gives the binary of the sum of the two numbers on the register B and on one of the extra registers and restores the other extra register to zero state. The sample circuit design of addition of 4 bit numbers is given below. \n",
    "\n",
    "![ctrl_add](img3.png) \n",
    "\n",
    "The algorithm for creating a generalised ctrl-add circuit using CNOT and Toffoli gates is programmed below. This function will be used as a sub-circuit/gate in the final Quantum Multiplier algorithm. "
   ]
  },
  {
   "cell_type": "code",
   "execution_count": 4,
   "metadata": {},
   "outputs": [],
   "source": [
    "def ctrl_circ(n_add) : \n",
    "\n",
    "    Ctrl = QuantumRegister(1)\n",
    "    A = QuantumRegister(n_add)\n",
    "    B = QuantumRegister(n_add)\n",
    "    A_extra = QuantumRegister(2)\n",
    "    \n",
    "    ctrl_add = QuantumCircuit(Ctrl, A, B, A_extra)\n",
    "\n",
    "    \n",
    "    #Step 1\n",
    "    for i in range(1,n_add) : \n",
    "        #print(i)\n",
    "        ctrl_add.cx(A[i], B[i])\n",
    "\n",
    "    #Step 2\n",
    "    ctrl_add.ccx(Ctrl, A[n_add - 1], A_extra[0])\n",
    "    for i in range(n_add - 2, 0, -1) : \n",
    "        #print(\"i\",i)\n",
    "        ctrl_add.cx(A[i], A[i+1])\n",
    "\n",
    "    #Step 3\n",
    "    for i in range(n_add-1) : \n",
    "        ctrl_add.ccx(B[i], A[i], A[i+1])\n",
    "\n",
    "    #Step 4 \n",
    "    ctrl_add.ccx(B[n_add-1],A[n_add-1],A_extra[1])\n",
    "    ctrl_add.ccx(Ctrl, A_extra[1], A_extra[0])\n",
    "    ctrl_add.ccx(B[n_add-1],A[n_add-1],A_extra[1])\n",
    "    ctrl_add.ccx(Ctrl, A[n_add-1], B[n_add-1])\n",
    "\n",
    "\n",
    "    #Step 5 \n",
    "    for i in range(n_add-2,-1, -1) :\n",
    "        ctrl_add.ccx(B[i], A[i], A[i+1])\n",
    "        ctrl_add.ccx(Ctrl, A[i], B[i])\n",
    "\n",
    "        \n",
    "    #Step 6 \n",
    "    for i in range(1, n_add - 1) :\n",
    "        ctrl_add.cx(A[i], A[i+1])\n",
    "\n",
    "        \n",
    "    #Step 7 \n",
    "    for i in range(1, n_add) : \n",
    "        ctrl_add.cx(A[i], B[i])\n",
    "\n",
    " \n",
    "    ctrl_gate = ctrl_add.to_gate()\n",
    "    return ctrl_gate\n",
    "    "
   ]
  },
  {
   "cell_type": "markdown",
   "metadata": {},
   "source": [
    "## Quantum Integer Multiplication Circuit  \n",
    "\n",
    "In this part we program the multiplier circuit using toffoli gate arrays and the ctrl_add circuit defined before. We take the binary of the two numbers a and b, product register, P of length 2n and an extra register as input. After the implementation of the circuit, the number a and b are restored, and the extra register is restored to zero state. The sample circuit for 4 bit numbers is given below.   \n",
    "![multiplier](img4.png) "
   ]
  },
  {
   "cell_type": "code",
   "execution_count": 5,
   "metadata": {},
   "outputs": [
    {
     "name": "stdout",
     "output_type": "stream",
     "text": [
      "binary of a :  1100\n",
      "binary of b :  1101\n",
      "indices of binary a from 0 to n-1 :  [0, 0, 1, 1]\n",
      "indices of binary b from 0 to n-1 :  [1, 0, 1, 1]\n"
     ]
    }
   ],
   "source": [
    "bin_a = bin(a)[2:]\n",
    "bin_b = bin(b)[2:]\n",
    "\n",
    "print(\"binary of a : \", bin_a)\n",
    "print(\"binary of b : \", bin_b)\n",
    "\n",
    "\n",
    "if len(bin_a) == len(bin_b) : \n",
    "    n = len(bin_a)\n",
    "    a_list = [int(x) for x in [*bin_a]]\n",
    "    a_list.reverse()\n",
    "    b_list = [int(x) for x in [*bin_b]]\n",
    "    b_list.reverse()\n",
    "    a_extra_list = [0,0]\n",
    "    p_list = [0] * 2 * n\n",
    "    \n",
    "else : \n",
    "    print(\"Numbers should be of same bit size\")\n",
    "    \n",
    "# print(p_list)\n",
    "print(\"indices of binary a from 0 to n-1 : \", a_list)\n",
    "print(\"indices of binary b from 0 to n-1 : \", b_list)"
   ]
  },
  {
   "cell_type": "code",
   "execution_count": 6,
   "metadata": {},
   "outputs": [
    {
     "name": "stdout",
     "output_type": "stream",
     "text": [
      "Initial input vector: [1, 0, 1, 1, 0, 0, 1, 1, 0, 0, 0, 0, 0, 0, 0, 0]\n",
      "Initial circuit with input state:\n",
      "     ┌───┐\n",
      "b_0: ┤ X ├\n",
      "     └───┘\n",
      "b_1: ─────\n",
      "     ┌───┐\n",
      "b_2: ┤ X ├\n",
      "     ├───┤\n",
      "b_3: ┤ X ├\n",
      "     └───┘\n",
      "a_0: ─────\n",
      "          \n",
      "a_1: ─────\n",
      "     ┌───┐\n",
      "a_2: ┤ X ├\n",
      "     ├───┤\n",
      "a_3: ┤ X ├\n",
      "     └───┘\n",
      "p_0: ─────\n",
      "          \n",
      "p_1: ─────\n",
      "          \n",
      "p_2: ─────\n",
      "          \n",
      "p_3: ─────\n",
      "          \n",
      "p_4: ─────\n",
      "          \n",
      "p_5: ─────\n",
      "          \n",
      "p_6: ─────\n",
      "          \n",
      "p_7: ─────\n",
      "          \n",
      "p_8: ─────\n",
      "          \n",
      "---------------------------------------------------------------------------------------------\n",
      "     ┌───┐                                                                    \n",
      "b_0: ┤ X ├──■────■────■────■──────────────────────────────────────────────────\n",
      "     └───┘  │    │    │    │  ┌──────────────┐                                \n",
      "b_1: ───────┼────┼────┼────┼──┤0             ├────────────────────────────────\n",
      "     ┌───┐  │    │    │    │  │              │┌──────────────┐                \n",
      "b_2: ┤ X ├──┼────┼────┼────┼──┤              ├┤0             ├────────────────\n",
      "     ├───┤  │    │    │    │  │              ││              │┌──────────────┐\n",
      "b_3: ┤ X ├──┼────┼────┼────┼──┤              ├┤              ├┤0             ├\n",
      "     └───┘  │    │    │    │  │              ││              ││              │\n",
      "a_0: ───────■────┼────┼────┼──┤1             ├┤1             ├┤1             ├\n",
      "            │    │    │    │  │              ││              ││              │\n",
      "a_1: ───────┼────■────┼────┼──┤2             ├┤2             ├┤2             ├\n",
      "     ┌───┐  │    │    │    │  │              ││              ││              │\n",
      "a_2: ┤ X ├──┼────┼────■────┼──┤3             ├┤3             ├┤3             ├\n",
      "     ├───┤  │    │    │    │  │              ││              ││              │\n",
      "a_3: ┤ X ├──┼────┼────┼────■──┤4             ├┤4             ├┤4             ├\n",
      "     └───┘┌─┴─┐  │    │    │  │   circuit-86 ││              ││              │\n",
      "p_0: ─────┤ X ├──┼────┼────┼──┤              ├┤              ├┤              ├\n",
      "          └───┘┌─┴─┐  │    │  │              ││   circuit-89 ││              │\n",
      "p_1: ──────────┤ X ├──┼────┼──┤5             ├┤              ├┤              ├\n",
      "               └───┘┌─┴─┐  │  │              ││              ││   circuit-92 │\n",
      "p_2: ───────────────┤ X ├──┼──┤6             ├┤5             ├┤              ├\n",
      "                    └───┘┌─┴─┐│              ││              ││              │\n",
      "p_3: ────────────────────┤ X ├┤7             ├┤6             ├┤5             ├\n",
      "                         └───┘│              ││              ││              │\n",
      "p_4: ─────────────────────────┤8             ├┤7             ├┤6             ├\n",
      "                              │              ││              ││              │\n",
      "p_5: ─────────────────────────┤9             ├┤8             ├┤7             ├\n",
      "                              │              ││              ││              │\n",
      "p_6: ─────────────────────────┤10            ├┤9             ├┤8             ├\n",
      "                              └──────────────┘│              ││              │\n",
      "p_7: ─────────────────────────────────────────┤10            ├┤9             ├\n",
      "                                              └──────────────┘│              │\n",
      "p_8: ─────────────────────────────────────────────────────────┤10            ├\n",
      "                                                              └──────────────┘\n"
     ]
    }
   ],
   "source": [
    "# quantum registers\n",
    "\n",
    "A = QuantumRegister(len(bin_a),'a')\n",
    "B = QuantumRegister(len(bin_b),'b')\n",
    "P = QuantumRegister(2*n + 1,'p')\n",
    "\n",
    "#initializing the circuit with a_i, b_i\n",
    "initial_vec = b_list + a_list + p_list\n",
    "print(\"Initial input vector:\", initial_vec)\n",
    "multiplier = QuantumCircuit(B, A, P)\n",
    "\n",
    "for i in range(len(initial_vec)) : \n",
    "    if initial_vec[i] == 1 : \n",
    "        multiplier.x(i)\n",
    "\n",
    "print(\"Initial circuit with input state:\")\n",
    "print(multiplier)\n",
    "print(\"---------------------------------------------------------------------------------------------\")\n",
    "\n",
    "\n",
    "#Step 1\n",
    "for i in range(n) : \n",
    "    multiplier.ccx(B[0], A[i], P[i])\n",
    "\n",
    "#Step 2\n",
    "index_ctrl = [1]\n",
    "index1 = list(range(n,2*n ))\n",
    "index2 = list(range(2*n + 1, 3*n + 3))\n",
    "\n",
    "all_index = index_ctrl+index1+index2\n",
    "\n",
    "multiplier.append(ctrl_circ(n),all_index)\n",
    "\n",
    "\n",
    "#Step 3 \n",
    "for j in range(2,n) : \n",
    "\n",
    "    index_ctrl = [j]\n",
    "    index1 = list(range(n, 2*n))\n",
    "\n",
    "    index2 = list(range(2*n + j , 3*n + j + 2 ))\n",
    "    all_index = index_ctrl+index1+index2\n",
    "    #print(index1,index2, all_index)\n",
    "\n",
    "    multiplier.append(ctrl_circ(n),all_index)\n",
    "\n",
    "print(multiplier)\n"
   ]
  },
  {
   "cell_type": "markdown",
   "metadata": {},
   "source": [
    "Here, we measure all the qubits of the circuit and look at the output value using the qasm_simulator provided by qiskit. "
   ]
  },
  {
   "cell_type": "code",
   "execution_count": 7,
   "metadata": {},
   "outputs": [
    {
     "name": "stdout",
     "output_type": "stream",
     "text": [
      "{'01001110011001101': 1}\n"
     ]
    }
   ],
   "source": [
    "multiplier.measure_all()\n",
    "\n",
    "\"\"\" Uncomment this part to see how the qasm_simulator performs\"\"\"\n",
    "\n",
    "# sim = Aer.get_backend('qasm_simulator')\n",
    "# result = execute(multiplier, backend = sim , shots = 1).result()\n",
    "# counts = result.get_counts()\n",
    "# print(counts)\n",
    "\n",
    "sim = Aer.get_backend('aer_simulator_matrix_product_state')\n",
    "multiplier = transpile(multiplier, sim)\n",
    "\n",
    "# Run and get counts\n",
    "result = sim.run(multiplier, shots = 1).result()\n",
    "counts = result.get_counts(multiplier)\n",
    "print(counts)\n",
    "#plot_histogram(counts, title='Bell-State counts')"
   ]
  },
  {
   "cell_type": "markdown",
   "metadata": {},
   "source": [
    "Now, we store this result in a list and check the results. "
   ]
  },
  {
   "cell_type": "code",
   "execution_count": 8,
   "metadata": {},
   "outputs": [
    {
     "name": "stdout",
     "output_type": "stream",
     "text": [
      "Binary of the resultant vector :  01001110011001101\n",
      "[0, 1, 0, 0, 1, 1, 1, 0, 0, 1, 1, 0, 0, 1, 1, 0, 1]\n"
     ]
    }
   ],
   "source": [
    "res_bin = list(counts.keys())[0]\n",
    "print(\"Binary of the resultant vector : \", res_bin)\n",
    "res_list = [int(x) for x in [*res_bin]]\n",
    "print(res_list)\n"
   ]
  },
  {
   "cell_type": "code",
   "execution_count": 9,
   "metadata": {},
   "outputs": [
    {
     "name": "stdout",
     "output_type": "stream",
     "text": [
      "[1, 0, 1, 1]\n",
      "[0, 0, 1, 1]\n",
      "A and B vector are restored\n",
      "[0, 0, 1, 1, 1, 0, 0, 1]\n",
      "156\n",
      "a <class 'int'> <class 'int'>\n",
      "Hurray! The product is succefully calculated to be :  156\n"
     ]
    }
   ],
   "source": [
    "b_res = res_list[-1:-n-1:-1]\n",
    "print(b_res)\n",
    "\n",
    "a_res = res_list[-n-1:-2*n-1:-1]\n",
    "print(a_res) \n",
    "\n",
    "if a_res == a_index and b_res == b_index : \n",
    "    print(\"A and B vector are restored\")\n",
    "    \n",
    "prod_res = res_list[-2*n-1 : -4*n - 1 : -1]\n",
    "print(prod_res)\n",
    "prod = 0\n",
    "for i in range(len(prod_res)) : \n",
    "    #print(\"i\", i)\n",
    "    prod += 2 ** i * prod_res[i]\n",
    "    #print(\"prod\", prod)\n",
    "print(prod)\n",
    "print(\"a\", type(a), type(b))\n",
    "if prod == a * b : \n",
    "    print(\"Hurray! The product is succefully calculated to be : \", prod)\n",
    "else : \n",
    "    print(\"Error in calculating the product\")\n",
    "    \n",
    "end = time.time()"
   ]
  },
  {
   "cell_type": "markdown",
   "metadata": {},
   "source": [
    "We see that the quantum register A and B have restored the value of the binary of the the input integers. It has also succefully calculated the product of the two numbers on the Product register, P, of the quantum circuit. "
   ]
  },
  {
   "cell_type": "code",
   "execution_count": 10,
   "metadata": {},
   "outputs": [
    {
     "name": "stdout",
     "output_type": "stream",
     "text": [
      "Execution time: 0.7204146385192871 seconds\n"
     ]
    }
   ],
   "source": [
    "elapsed_time = end - start\n",
    "print('Execution time:', elapsed_time, 'seconds')"
   ]
  },
  {
   "cell_type": "markdown",
   "metadata": {},
   "source": [
    "## Discussion  \n",
    "- It should be noted that the algorithm does not work if the numbers input are of different **bit size**. It does not work even if we make the two numbers of same bit size by adding zeroes. This method requires the binary of the number to be in the most simplified form.  \n",
    "- The capability of algorithm is also dependent on the simulator it is being run on. The **qasm_simulator** is capable of simulating lesser number of qubits and thus can only give product for number of maximum **bit size 9**. The **Matrix product state simulator** on the other hand is much more efficient and can calculate the product of numbers of bit size as large as **59**. The highest number it can deal with is **1152921504606846975** and can calculate it's square very quickly.  \n",
    "- The algorithm is very fast and takes a maximum of 15 seconds to calculate the product. Product of number of smaller sizes can be calculated in as less as 0.7 seconds.  \n",
    "- The proposed algorithm performs appreciably better than the other proposed algorithms with :  \n",
    "T count = $ 21n^{2} - 14 $  \n",
    "number of qubits = $ 4n + 1 $  \n",
    "number of ancillae = $ 2n + 1$  \n",
    "This shows much improvement than the previously proposed algorithms for a quantum multiplier.  \n",
    "- The circuit has a depth of $3n + 1$, as seen from the circuit.  \n",
    "- Considering the resources required for and the efficiency of the multiplier, the algorithm has the potential to show good results and may be run on the IBM Quantum computers to study the error tolerance.  "
   ]
  },
  {
   "cell_type": "markdown",
   "metadata": {},
   "source": [
    "## References  \n",
    "https://arxiv.org/abs/1706.05113  \n",
    "https://qiskit.org/  \n",
    "https://arxiv.org/abs/quant-ph/0008033  \n",
    "https://arxiv.org/abs/2005.00443"
   ]
  },
  {
   "cell_type": "code",
   "execution_count": null,
   "metadata": {},
   "outputs": [],
   "source": []
  }
 ],
 "metadata": {
  "kernelspec": {
   "display_name": "Python 3",
   "language": "python",
   "name": "python3"
  },
  "language_info": {
   "codemirror_mode": {
    "name": "ipython",
    "version": 3
   },
   "file_extension": ".py",
   "mimetype": "text/x-python",
   "name": "python",
   "nbconvert_exporter": "python",
   "pygments_lexer": "ipython3",
   "version": "3.7.6"
  }
 },
 "nbformat": 4,
 "nbformat_minor": 4
}
